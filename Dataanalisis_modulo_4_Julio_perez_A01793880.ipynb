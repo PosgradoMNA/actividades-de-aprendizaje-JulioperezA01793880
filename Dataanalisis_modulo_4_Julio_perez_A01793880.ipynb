{
  "nbformat": 4,
  "nbformat_minor": 0,
  "metadata": {
    "colab": {
      "provenance": [],
      "authorship_tag": "ABX9TyMAtlDWluxVwvSYOzAccvY2",
      "include_colab_link": true
    },
    "kernelspec": {
      "name": "python3",
      "display_name": "Python 3"
    },
    "language_info": {
      "name": "python"
    }
  },
  "cells": [
    {
      "cell_type": "markdown",
      "metadata": {
        "id": "view-in-github",
        "colab_type": "text"
      },
      "source": [
        "<a href=\"https://colab.research.google.com/github/PosgradoMNA/actividades-de-aprendizaje-JulioperezA01793880/blob/main/Dataanalisis_modulo_4_Julio_perez_A01793880.ipynb\" target=\"_parent\"><img src=\"https://colab.research.google.com/assets/colab-badge.svg\" alt=\"Open In Colab\"/></a>"
      ]
    },
    {
      "cell_type": "markdown",
      "source": [
        "Nombre: Julio Cesar Perez Zapata\n",
        "Matricula:\n",
        "l![modulo4_analisisdatos.png](data:image/png;base64,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)"
      ],
      "metadata": {
        "id": "Iqz4kI9E1CAG"
      }
    },
    {
      "cell_type": "code",
      "execution_count": 4,
      "metadata": {
        "id": "13-xk-Zt05iu"
      },
      "outputs": [],
      "source": [
        "import pandas as pd  # importamos las librerias necesarias para realoizar el laboratorio y la libreria para graficar\n",
        "import numpy as np\n",
        "import matplotlib.pyplot as plt\n",
        "from sklearn.linear_model import LinearRegression"
      ]
    },
    {
      "cell_type": "code",
      "source": [
        "path = 'https://cf-courses-data.s3.us.cloud-object-storage.appdomain.cloud/IBMDeveloperSkillsNetwork-DA0101EN-SkillsNetwork/labs/Data%20files/automobileEDA.csv'"
      ],
      "metadata": {
        "id": "5A8BZ3FO1Ayq"
      },
      "execution_count": 1,
      "outputs": []
    },
    {
      "cell_type": "code",
      "source": [
        "df = pd.read_csv(path) # cargamos el datast en df e imprimimos las 5 primeras filas\n",
        "df.head()"
      ],
      "metadata": {
        "colab": {
          "base_uri": "https://localhost:8080/",
          "height": 386
        },
        "id": "HCYNsTTRDyHb",
        "outputId": "0d541bf9-542a-45bf-cf72-9a9235275f1a"
      },
      "execution_count": 3,
      "outputs": [
        {
          "output_type": "execute_result",
          "data": {
            "text/plain": [
              "   symboling  normalized-losses         make aspiration num-of-doors  \\\n",
              "0          3                122  alfa-romero        std          two   \n",
              "1          3                122  alfa-romero        std          two   \n",
              "2          1                122  alfa-romero        std          two   \n",
              "3          2                164         audi        std         four   \n",
              "4          2                164         audi        std         four   \n",
              "\n",
              "    body-style drive-wheels engine-location  wheel-base    length  ...  \\\n",
              "0  convertible          rwd           front        88.6  0.811148  ...   \n",
              "1  convertible          rwd           front        88.6  0.811148  ...   \n",
              "2    hatchback          rwd           front        94.5  0.822681  ...   \n",
              "3        sedan          fwd           front        99.8  0.848630  ...   \n",
              "4        sedan          4wd           front        99.4  0.848630  ...   \n",
              "\n",
              "   compression-ratio  horsepower  peak-rpm city-mpg highway-mpg    price  \\\n",
              "0                9.0       111.0    5000.0       21          27  13495.0   \n",
              "1                9.0       111.0    5000.0       21          27  16500.0   \n",
              "2                9.0       154.0    5000.0       19          26  16500.0   \n",
              "3               10.0       102.0    5500.0       24          30  13950.0   \n",
              "4                8.0       115.0    5500.0       18          22  17450.0   \n",
              "\n",
              "  city-L/100km  horsepower-binned  diesel  gas  \n",
              "0    11.190476             Medium       0    1  \n",
              "1    11.190476             Medium       0    1  \n",
              "2    12.368421             Medium       0    1  \n",
              "3     9.791667             Medium       0    1  \n",
              "4    13.055556             Medium       0    1  \n",
              "\n",
              "[5 rows x 29 columns]"
            ],
            "text/html": [
              "\n",
              "  <div id=\"df-e897605d-fc96-4069-92c4-4822aa0f88e5\">\n",
              "    <div class=\"colab-df-container\">\n",
              "      <div>\n",
              "<style scoped>\n",
              "    .dataframe tbody tr th:only-of-type {\n",
              "        vertical-align: middle;\n",
              "    }\n",
              "\n",
              "    .dataframe tbody tr th {\n",
              "        vertical-align: top;\n",
              "    }\n",
              "\n",
              "    .dataframe thead th {\n",
              "        text-align: right;\n",
              "    }\n",
              "</style>\n",
              "<table border=\"1\" class=\"dataframe\">\n",
              "  <thead>\n",
              "    <tr style=\"text-align: right;\">\n",
              "      <th></th>\n",
              "      <th>symboling</th>\n",
              "      <th>normalized-losses</th>\n",
              "      <th>make</th>\n",
              "      <th>aspiration</th>\n",
              "      <th>num-of-doors</th>\n",
              "      <th>body-style</th>\n",
              "      <th>drive-wheels</th>\n",
              "      <th>engine-location</th>\n",
              "      <th>wheel-base</th>\n",
              "      <th>length</th>\n",
              "      <th>...</th>\n",
              "      <th>compression-ratio</th>\n",
              "      <th>horsepower</th>\n",
              "      <th>peak-rpm</th>\n",
              "      <th>city-mpg</th>\n",
              "      <th>highway-mpg</th>\n",
              "      <th>price</th>\n",
              "      <th>city-L/100km</th>\n",
              "      <th>horsepower-binned</th>\n",
              "      <th>diesel</th>\n",
              "      <th>gas</th>\n",
              "    </tr>\n",
              "  </thead>\n",
              "  <tbody>\n",
              "    <tr>\n",
              "      <th>0</th>\n",
              "      <td>3</td>\n",
              "      <td>122</td>\n",
              "      <td>alfa-romero</td>\n",
              "      <td>std</td>\n",
              "      <td>two</td>\n",
              "      <td>convertible</td>\n",
              "      <td>rwd</td>\n",
              "      <td>front</td>\n",
              "      <td>88.6</td>\n",
              "      <td>0.811148</td>\n",
              "      <td>...</td>\n",
              "      <td>9.0</td>\n",
              "      <td>111.0</td>\n",
              "      <td>5000.0</td>\n",
              "      <td>21</td>\n",
              "      <td>27</td>\n",
              "      <td>13495.0</td>\n",
              "      <td>11.190476</td>\n",
              "      <td>Medium</td>\n",
              "      <td>0</td>\n",
              "      <td>1</td>\n",
              "    </tr>\n",
              "    <tr>\n",
              "      <th>1</th>\n",
              "      <td>3</td>\n",
              "      <td>122</td>\n",
              "      <td>alfa-romero</td>\n",
              "      <td>std</td>\n",
              "      <td>two</td>\n",
              "      <td>convertible</td>\n",
              "      <td>rwd</td>\n",
              "      <td>front</td>\n",
              "      <td>88.6</td>\n",
              "      <td>0.811148</td>\n",
              "      <td>...</td>\n",
              "      <td>9.0</td>\n",
              "      <td>111.0</td>\n",
              "      <td>5000.0</td>\n",
              "      <td>21</td>\n",
              "      <td>27</td>\n",
              "      <td>16500.0</td>\n",
              "      <td>11.190476</td>\n",
              "      <td>Medium</td>\n",
              "      <td>0</td>\n",
              "      <td>1</td>\n",
              "    </tr>\n",
              "    <tr>\n",
              "      <th>2</th>\n",
              "      <td>1</td>\n",
              "      <td>122</td>\n",
              "      <td>alfa-romero</td>\n",
              "      <td>std</td>\n",
              "      <td>two</td>\n",
              "      <td>hatchback</td>\n",
              "      <td>rwd</td>\n",
              "      <td>front</td>\n",
              "      <td>94.5</td>\n",
              "      <td>0.822681</td>\n",
              "      <td>...</td>\n",
              "      <td>9.0</td>\n",
              "      <td>154.0</td>\n",
              "      <td>5000.0</td>\n",
              "      <td>19</td>\n",
              "      <td>26</td>\n",
              "      <td>16500.0</td>\n",
              "      <td>12.368421</td>\n",
              "      <td>Medium</td>\n",
              "      <td>0</td>\n",
              "      <td>1</td>\n",
              "    </tr>\n",
              "    <tr>\n",
              "      <th>3</th>\n",
              "      <td>2</td>\n",
              "      <td>164</td>\n",
              "      <td>audi</td>\n",
              "      <td>std</td>\n",
              "      <td>four</td>\n",
              "      <td>sedan</td>\n",
              "      <td>fwd</td>\n",
              "      <td>front</td>\n",
              "      <td>99.8</td>\n",
              "      <td>0.848630</td>\n",
              "      <td>...</td>\n",
              "      <td>10.0</td>\n",
              "      <td>102.0</td>\n",
              "      <td>5500.0</td>\n",
              "      <td>24</td>\n",
              "      <td>30</td>\n",
              "      <td>13950.0</td>\n",
              "      <td>9.791667</td>\n",
              "      <td>Medium</td>\n",
              "      <td>0</td>\n",
              "      <td>1</td>\n",
              "    </tr>\n",
              "    <tr>\n",
              "      <th>4</th>\n",
              "      <td>2</td>\n",
              "      <td>164</td>\n",
              "      <td>audi</td>\n",
              "      <td>std</td>\n",
              "      <td>four</td>\n",
              "      <td>sedan</td>\n",
              "      <td>4wd</td>\n",
              "      <td>front</td>\n",
              "      <td>99.4</td>\n",
              "      <td>0.848630</td>\n",
              "      <td>...</td>\n",
              "      <td>8.0</td>\n",
              "      <td>115.0</td>\n",
              "      <td>5500.0</td>\n",
              "      <td>18</td>\n",
              "      <td>22</td>\n",
              "      <td>17450.0</td>\n",
              "      <td>13.055556</td>\n",
              "      <td>Medium</td>\n",
              "      <td>0</td>\n",
              "      <td>1</td>\n",
              "    </tr>\n",
              "  </tbody>\n",
              "</table>\n",
              "<p>5 rows × 29 columns</p>\n",
              "</div>\n",
              "      <button class=\"colab-df-convert\" onclick=\"convertToInteractive('df-e897605d-fc96-4069-92c4-4822aa0f88e5')\"\n",
              "              title=\"Convert this dataframe to an interactive table.\"\n",
              "              style=\"display:none;\">\n",
              "        \n",
              "  <svg xmlns=\"http://www.w3.org/2000/svg\" height=\"24px\"viewBox=\"0 0 24 24\"\n",
              "       width=\"24px\">\n",
              "    <path d=\"M0 0h24v24H0V0z\" fill=\"none\"/>\n",
              "    <path d=\"M18.56 5.44l.94 2.06.94-2.06 2.06-.94-2.06-.94-.94-2.06-.94 2.06-2.06.94zm-11 1L8.5 8.5l.94-2.06 2.06-.94-2.06-.94L8.5 2.5l-.94 2.06-2.06.94zm10 10l.94 2.06.94-2.06 2.06-.94-2.06-.94-.94-2.06-.94 2.06-2.06.94z\"/><path d=\"M17.41 7.96l-1.37-1.37c-.4-.4-.92-.59-1.43-.59-.52 0-1.04.2-1.43.59L10.3 9.45l-7.72 7.72c-.78.78-.78 2.05 0 2.83L4 21.41c.39.39.9.59 1.41.59.51 0 1.02-.2 1.41-.59l7.78-7.78 2.81-2.81c.8-.78.8-2.07 0-2.86zM5.41 20L4 18.59l7.72-7.72 1.47 1.35L5.41 20z\"/>\n",
              "  </svg>\n",
              "      </button>\n",
              "      \n",
              "  <style>\n",
              "    .colab-df-container {\n",
              "      display:flex;\n",
              "      flex-wrap:wrap;\n",
              "      gap: 12px;\n",
              "    }\n",
              "\n",
              "    .colab-df-convert {\n",
              "      background-color: #E8F0FE;\n",
              "      border: none;\n",
              "      border-radius: 50%;\n",
              "      cursor: pointer;\n",
              "      display: none;\n",
              "      fill: #1967D2;\n",
              "      height: 32px;\n",
              "      padding: 0 0 0 0;\n",
              "      width: 32px;\n",
              "    }\n",
              "\n",
              "    .colab-df-convert:hover {\n",
              "      background-color: #E2EBFA;\n",
              "      box-shadow: 0px 1px 2px rgba(60, 64, 67, 0.3), 0px 1px 3px 1px rgba(60, 64, 67, 0.15);\n",
              "      fill: #174EA6;\n",
              "    }\n",
              "\n",
              "    [theme=dark] .colab-df-convert {\n",
              "      background-color: #3B4455;\n",
              "      fill: #D2E3FC;\n",
              "    }\n",
              "\n",
              "    [theme=dark] .colab-df-convert:hover {\n",
              "      background-color: #434B5C;\n",
              "      box-shadow: 0px 1px 3px 1px rgba(0, 0, 0, 0.15);\n",
              "      filter: drop-shadow(0px 1px 2px rgba(0, 0, 0, 0.3));\n",
              "      fill: #FFFFFF;\n",
              "    }\n",
              "  </style>\n",
              "\n",
              "      <script>\n",
              "        const buttonEl =\n",
              "          document.querySelector('#df-e897605d-fc96-4069-92c4-4822aa0f88e5 button.colab-df-convert');\n",
              "        buttonEl.style.display =\n",
              "          google.colab.kernel.accessAllowed ? 'block' : 'none';\n",
              "\n",
              "        async function convertToInteractive(key) {\n",
              "          const element = document.querySelector('#df-e897605d-fc96-4069-92c4-4822aa0f88e5');\n",
              "          const dataTable =\n",
              "            await google.colab.kernel.invokeFunction('convertToInteractive',\n",
              "                                                     [key], {});\n",
              "          if (!dataTable) return;\n",
              "\n",
              "          const docLinkHtml = 'Like what you see? Visit the ' +\n",
              "            '<a target=\"_blank\" href=https://colab.research.google.com/notebooks/data_table.ipynb>data table notebook</a>'\n",
              "            + ' to learn more about interactive tables.';\n",
              "          element.innerHTML = '';\n",
              "          dataTable['output_type'] = 'display_data';\n",
              "          await google.colab.output.renderOutput(dataTable, element);\n",
              "          const docLink = document.createElement('div');\n",
              "          docLink.innerHTML = docLinkHtml;\n",
              "          element.appendChild(docLink);\n",
              "        }\n",
              "      </script>\n",
              "    </div>\n",
              "  </div>\n",
              "  "
            ]
          },
          "metadata": {},
          "execution_count": 3
        }
      ]
    },
    {
      "cell_type": "code",
      "source": [
        "lm = LinearRegression()  # llamamos el modelo a utilizar\n",
        "lm"
      ],
      "metadata": {
        "colab": {
          "base_uri": "https://localhost:8080/"
        },
        "id": "dAUUnOz2EkRM",
        "outputId": "16c80051-9ea6-4a2f-bb2c-cdf76707ea72"
      },
      "execution_count": 5,
      "outputs": [
        {
          "output_type": "execute_result",
          "data": {
            "text/plain": [
              "LinearRegression()"
            ]
          },
          "metadata": {},
          "execution_count": 5
        }
      ]
    },
    {
      "cell_type": "code",
      "source": [
        "X = df[['highway-mpg']] # selecionamos las variables que nos ayudaran a predicir el precio, para este ejemplo se utiliza la variable 'highway-mpg' como entrada y la variable prie como salida\n",
        "Y = df['price']"
      ],
      "metadata": {
        "id": "FoX4_3PsEz5Q"
      },
      "execution_count": 6,
      "outputs": []
    },
    {
      "cell_type": "code",
      "source": [
        "lm.fit(X,Y)  # entrenamos el modelo"
      ],
      "metadata": {
        "colab": {
          "base_uri": "https://localhost:8080/"
        },
        "id": "uZoofeHiFNp5",
        "outputId": "61fe7ad8-acea-4296-d3ca-341c286bc19a"
      },
      "execution_count": 7,
      "outputs": [
        {
          "output_type": "execute_result",
          "data": {
            "text/plain": [
              "LinearRegression()"
            ]
          },
          "metadata": {},
          "execution_count": 7
        }
      ]
    },
    {
      "cell_type": "code",
      "source": [
        "Yhat=lm.predict(X)\n",
        "Yhat[0:5]  "
      ],
      "metadata": {
        "colab": {
          "base_uri": "https://localhost:8080/"
        },
        "id": "sGVikFvBFWZp",
        "outputId": "44e9b10a-4aa7-40b5-fd7f-80fe0b0b4a75"
      },
      "execution_count": 8,
      "outputs": [
        {
          "output_type": "execute_result",
          "data": {
            "text/plain": [
              "array([16236.50464347, 16236.50464347, 17058.23802179, 13771.3045085 ,\n",
              "       20345.17153508])"
            ]
          },
          "metadata": {},
          "execution_count": 8
        }
      ]
    },
    {
      "cell_type": "code",
      "source": [
        "lm.intercept_"
      ],
      "metadata": {
        "colab": {
          "base_uri": "https://localhost:8080/"
        },
        "id": "ijHFB7XKFms-",
        "outputId": "d027c474-db21-4064-bcf6-451d522deb3a"
      },
      "execution_count": 9,
      "outputs": [
        {
          "output_type": "execute_result",
          "data": {
            "text/plain": [
              "38423.3058581574"
            ]
          },
          "metadata": {},
          "execution_count": 9
        }
      ]
    },
    {
      "cell_type": "code",
      "source": [
        "lm.coef_"
      ],
      "metadata": {
        "colab": {
          "base_uri": "https://localhost:8080/"
        },
        "id": "lAGzbJveFrGb",
        "outputId": "9f54e96f-edc6-4a84-e64e-1cc1a4f50471"
      },
      "execution_count": 10,
      "outputs": [
        {
          "output_type": "execute_result",
          "data": {
            "text/plain": [
              "array([-821.73337832])"
            ]
          },
          "metadata": {},
          "execution_count": 10
        }
      ]
    },
    {
      "cell_type": "code",
      "source": [
        "# el primer laboratorio es traer un modelo de regresion lineal que se llame lm1\n",
        "lm1 = LinearRegression()\n",
        "lm1"
      ],
      "metadata": {
        "colab": {
          "base_uri": "https://localhost:8080/"
        },
        "id": "yN4Q3mtVFzP6",
        "outputId": "70919f90-0856-4af1-8a68-1cbb0cced089"
      },
      "execution_count": 11,
      "outputs": [
        {
          "output_type": "execute_result",
          "data": {
            "text/plain": [
              "LinearRegression()"
            ]
          },
          "metadata": {},
          "execution_count": 11
        }
      ]
    },
    {
      "cell_type": "code",
      "source": [
        "#entrenamos el modelo con las variable engine-size y price\n",
        "lm1.fit(df[['engine-size']], df[['price']])\n",
        "lm1"
      ],
      "metadata": {
        "colab": {
          "base_uri": "https://localhost:8080/"
        },
        "id": "TfKlIUbiGHN6",
        "outputId": "1e2c1ffa-2881-4a3d-da72-4ca791879151"
      },
      "execution_count": 12,
      "outputs": [
        {
          "output_type": "execute_result",
          "data": {
            "text/plain": [
              "LinearRegression()"
            ]
          },
          "metadata": {},
          "execution_count": 12
        }
      ]
    },
    {
      "cell_type": "code",
      "source": [
        "# encontar la pendiente\n",
        "lm1.coef_\n"
      ],
      "metadata": {
        "colab": {
          "base_uri": "https://localhost:8080/"
        },
        "id": "Ypipn--_GVs_",
        "outputId": "fdde118d-8fee-4a70-9512-2098708323d9"
      },
      "execution_count": 17,
      "outputs": [
        {
          "output_type": "execute_result",
          "data": {
            "text/plain": [
              "array([[166.86001569]])"
            ]
          },
          "metadata": {},
          "execution_count": 17
        }
      ]
    },
    {
      "cell_type": "code",
      "source": [
        "# encontrar la intercepcion\n",
        "lm1.intercept_"
      ],
      "metadata": {
        "colab": {
          "base_uri": "https://localhost:8080/"
        },
        "id": "hCDH6k2zGhcY",
        "outputId": "8c881e86-664c-4296-c975-a7bc1a5ac4be"
      },
      "execution_count": 16,
      "outputs": [
        {
          "output_type": "execute_result",
          "data": {
            "text/plain": [
              "array([-7963.33890628])"
            ]
          },
          "metadata": {},
          "execution_count": 16
        }
      ]
    },
    {
      "cell_type": "code",
      "source": [
        "Yhat=-7963.34 + 166.86*X\n",
        "\n",
        "Price=-7963.34 + 166.86*df['engine-size']"
      ],
      "metadata": {
        "id": "jkijemP9HC6t"
      },
      "execution_count": 15,
      "outputs": []
    },
    {
      "cell_type": "code",
      "source": [
        "#modelo con varias variables de entrada\n",
        "Z = df[['horsepower', 'curb-weight', 'engine-size', 'highway-mpg']]"
      ],
      "metadata": {
        "id": "3mf_1ymYHGZc"
      },
      "execution_count": 18,
      "outputs": []
    },
    {
      "cell_type": "code",
      "source": [
        "lm.fit(Z, df['price'])"
      ],
      "metadata": {
        "colab": {
          "base_uri": "https://localhost:8080/"
        },
        "id": "YbU0jHLzHcBD",
        "outputId": "5e34b7a0-0913-4995-82ec-fb35206037a6"
      },
      "execution_count": 19,
      "outputs": [
        {
          "output_type": "execute_result",
          "data": {
            "text/plain": [
              "LinearRegression()"
            ]
          },
          "metadata": {},
          "execution_count": 19
        }
      ]
    },
    {
      "cell_type": "code",
      "source": [
        "lm.intercept_"
      ],
      "metadata": {
        "colab": {
          "base_uri": "https://localhost:8080/"
        },
        "id": "RnY3q3pnHcIb",
        "outputId": "2cf5903a-f88d-4978-e1e3-368a1deb1296"
      },
      "execution_count": 21,
      "outputs": [
        {
          "output_type": "execute_result",
          "data": {
            "text/plain": [
              "-15806.62462632922"
            ]
          },
          "metadata": {},
          "execution_count": 21
        }
      ]
    },
    {
      "cell_type": "code",
      "source": [
        "lm.coef_"
      ],
      "metadata": {
        "colab": {
          "base_uri": "https://localhost:8080/"
        },
        "id": "fNS6c71zHcMk",
        "outputId": "e953f9f4-bff3-4939-fec9-d02f2193df11"
      },
      "execution_count": 22,
      "outputs": [
        {
          "output_type": "execute_result",
          "data": {
            "text/plain": [
              "array([53.49574423,  4.70770099, 81.53026382, 36.05748882])"
            ]
          },
          "metadata": {},
          "execution_count": 22
        }
      ]
    },
    {
      "cell_type": "code",
      "source": [
        "# Cree y entrene un modelo de regresión lineal múltiple \"lm2\" en el que la variable de respuesta sea \"precio\" y la variable de predicción sea \"pérdidas normalizadas\" y \"mpg en carretera\".\n",
        "lm2 = LinearRegression()\n",
        "lm2.fit(df[['normalized-losses' , 'highway-mpg']],df['price'])"
      ],
      "metadata": {
        "colab": {
          "base_uri": "https://localhost:8080/"
        },
        "id": "hVgyR6fkHwSR",
        "outputId": "abca4a92-f6b2-4216-9751-7e373d196981"
      },
      "execution_count": 24,
      "outputs": [
        {
          "output_type": "execute_result",
          "data": {
            "text/plain": [
              "LinearRegression()"
            ]
          },
          "metadata": {},
          "execution_count": 24
        }
      ]
    },
    {
      "cell_type": "code",
      "source": [
        "lm2.coef_"
      ],
      "metadata": {
        "colab": {
          "base_uri": "https://localhost:8080/"
        },
        "id": "-LHe7735H_ni",
        "outputId": "7621b6d0-ceb8-4e39-e84d-3c2be836d68e"
      },
      "execution_count": 25,
      "outputs": [
        {
          "output_type": "execute_result",
          "data": {
            "text/plain": [
              "array([   1.49789586, -820.45434016])"
            ]
          },
          "metadata": {},
          "execution_count": 25
        }
      ]
    },
    {
      "cell_type": "code",
      "source": [
        "import seaborn as sns\n",
        "%matplotlib inline "
      ],
      "metadata": {
        "id": "pXst5zGfH_x1"
      },
      "execution_count": 26,
      "outputs": []
    },
    {
      "cell_type": "code",
      "source": [
        "width = 12\n",
        "height = 10\n",
        "plt.figure(figsize=(width, height))\n",
        "sns.regplot(x=\"highway-mpg\", y=\"price\", data=df)\n",
        "plt.ylim(0,)"
      ],
      "metadata": {
        "colab": {
          "base_uri": "https://localhost:8080/",
          "height": 623
        },
        "id": "rH8gRVddITCK",
        "outputId": "5f4bd927-ea1d-4a63-beda-a539fc819847"
      },
      "execution_count": 27,
      "outputs": [
        {
          "output_type": "execute_result",
          "data": {
            "text/plain": [
              "(0.0, 48186.907296066514)"
            ]
          },
          "metadata": {},
          "execution_count": 27
        },
        {
          "output_type": "display_data",
          "data": {
            "text/plain": [
              "<Figure size 864x720 with 1 Axes>"
            ],
            "image/png": "[encoded data removed]"
          },
          "metadata": {
            "needs_background": "light"
          }
        }
      ]
    },
    {
      "cell_type": "code",
      "source": [
        "plt.figure(figsize=(width, height))\n",
        "sns.regplot(x=\"peak-rpm\", y=\"price\", data=df)\n",
        "plt.ylim(0,)"
      ],
      "metadata": {
        "colab": {
          "base_uri": "https://localhost:8080/",
          "height": 623
        },
        "id": "mkZGuTblITFT",
        "outputId": "ac5b566e-0c7a-403c-a8f7-73dff11368fe"
      },
      "execution_count": 28,
      "outputs": [
        {
          "output_type": "execute_result",
          "data": {
            "text/plain": [
              "(0.0, 47414.1)"
            ]
          },
          "metadata": {},
          "execution_count": 28
        },
        {
          "output_type": "display_data",
          "data": {
            "text/plain": [
              "<Figure size 864x720 with 1 Axes>"
            ],
            "image/png": "[encoded data removed]"
          },
          "metadata": {
            "needs_background": "light"
          }
        }
      ]
    },
    {
      "cell_type": "code",
      "source": [
        "df[[\"peak-rpm\",\"highway-mpg\",\"price\"]].corr()"
      ],
      "metadata": {
        "colab": {
          "base_uri": "https://localhost:8080/",
          "height": 143
        },
        "id": "zhmCCSgyIpQQ",
        "outputId": "c986524c-08af-4327-a0ca-4c76ae2f6426"
      },
      "execution_count": 29,
      "outputs": [
        {
          "output_type": "execute_result",
          "data": {
            "text/plain": [
              "             peak-rpm  highway-mpg     price\n",
              "peak-rpm     1.000000    -0.058598 -0.101616\n",
              "highway-mpg -0.058598     1.000000 -0.704692\n",
              "price       -0.101616    -0.704692  1.000000"
            ],
            "text/html": [
              "\n",
              "  <div id=\"df-95013efa-016a-4c8d-b825-8fcb9213c295\">\n",
              "    <div class=\"colab-df-container\">\n",
              "      <div>\n",
              "<style scoped>\n",
              "    .dataframe tbody tr th:only-of-type {\n",
              "        vertical-align: middle;\n",
              "    }\n",
              "\n",
              "    .dataframe tbody tr th {\n",
              "        vertical-align: top;\n",
              "    }\n",
              "\n",
              "    .dataframe thead th {\n",
              "        text-align: right;\n",
              "    }\n",
              "</style>\n",
              "<table border=\"1\" class=\"dataframe\">\n",
              "  <thead>\n",
              "    <tr style=\"text-align: right;\">\n",
              "      <th></th>\n",
              "      <th>peak-rpm</th>\n",
              "      <th>highway-mpg</th>\n",
              "      <th>price</th>\n",
              "    </tr>\n",
              "  </thead>\n",
              "  <tbody>\n",
              "    <tr>\n",
              "      <th>peak-rpm</th>\n",
              "      <td>1.000000</td>\n",
              "      <td>-0.058598</td>\n",
              "      <td>-0.101616</td>\n",
              "    </tr>\n",
              "    <tr>\n",
              "      <th>highway-mpg</th>\n",
              "      <td>-0.058598</td>\n",
              "      <td>1.000000</td>\n",
              "      <td>-0.704692</td>\n",
              "    </tr>\n",
              "    <tr>\n",
              "      <th>price</th>\n",
              "      <td>-0.101616</td>\n",
              "      <td>-0.704692</td>\n",
              "      <td>1.000000</td>\n",
              "    </tr>\n",
              "  </tbody>\n",
              "</table>\n",
              "</div>\n",
              "      <button class=\"colab-df-convert\" onclick=\"convertToInteractive('df-95013efa-016a-4c8d-b825-8fcb9213c295')\"\n",
              "              title=\"Convert this dataframe to an interactive table.\"\n",
              "              style=\"display:none;\">\n",
              "        \n",
              "  <svg xmlns=\"http://www.w3.org/2000/svg\" height=\"24px\"viewBox=\"0 0 24 24\"\n",
              "       width=\"24px\">\n",
              "    <path d=\"M0 0h24v24H0V0z\" fill=\"none\"/>\n",
              "    <path d=\"M18.56 5.44l.94 2.06.94-2.06 2.06-.94-2.06-.94-.94-2.06-.94 2.06-2.06.94zm-11 1L8.5 8.5l.94-2.06 2.06-.94-2.06-.94L8.5 2.5l-.94 2.06-2.06.94zm10 10l.94 2.06.94-2.06 2.06-.94-2.06-.94-.94-2.06-.94 2.06-2.06.94z\"/><path d=\"M17.41 7.96l-1.37-1.37c-.4-.4-.92-.59-1.43-.59-.52 0-1.04.2-1.43.59L10.3 9.45l-7.72 7.72c-.78.78-.78 2.05 0 2.83L4 21.41c.39.39.9.59 1.41.59.51 0 1.02-.2 1.41-.59l7.78-7.78 2.81-2.81c.8-.78.8-2.07 0-2.86zM5.41 20L4 18.59l7.72-7.72 1.47 1.35L5.41 20z\"/>\n",
              "  </svg>\n",
              "      </button>\n",
              "      \n",
              "  <style>\n",
              "    .colab-df-container {\n",
              "      display:flex;\n",
              "      flex-wrap:wrap;\n",
              "      gap: 12px;\n",
              "    }\n",
              "\n",
              "    .colab-df-convert {\n",
              "      background-color: #E8F0FE;\n",
              "      border: none;\n",
              "      border-radius: 50%;\n",
              "      cursor: pointer;\n",
              "      display: none;\n",
              "      fill: #1967D2;\n",
              "      height: 32px;\n",
              "      padding: 0 0 0 0;\n",
              "      width: 32px;\n",
              "    }\n",
              "\n",
              "    .colab-df-convert:hover {\n",
              "      background-color: #E2EBFA;\n",
              "      box-shadow: 0px 1px 2px rgba(60, 64, 67, 0.3), 0px 1px 3px 1px rgba(60, 64, 67, 0.15);\n",
              "      fill: #174EA6;\n",
              "    }\n",
              "\n",
              "    [theme=dark] .colab-df-convert {\n",
              "      background-color: #3B4455;\n",
              "      fill: #D2E3FC;\n",
              "    }\n",
              "\n",
              "    [theme=dark] .colab-df-convert:hover {\n",
              "      background-color: #434B5C;\n",
              "      box-shadow: 0px 1px 3px 1px rgba(0, 0, 0, 0.15);\n",
              "      filter: drop-shadow(0px 1px 2px rgba(0, 0, 0, 0.3));\n",
              "      fill: #FFFFFF;\n",
              "    }\n",
              "  </style>\n",
              "\n",
              "      <script>\n",
              "        const buttonEl =\n",
              "          document.querySelector('#df-95013efa-016a-4c8d-b825-8fcb9213c295 button.colab-df-convert');\n",
              "        buttonEl.style.display =\n",
              "          google.colab.kernel.accessAllowed ? 'block' : 'none';\n",
              "\n",
              "        async function convertToInteractive(key) {\n",
              "          const element = document.querySelector('#df-95013efa-016a-4c8d-b825-8fcb9213c295');\n",
              "          const dataTable =\n",
              "            await google.colab.kernel.invokeFunction('convertToInteractive',\n",
              "                                                     [key], {});\n",
              "          if (!dataTable) return;\n",
              "\n",
              "          const docLinkHtml = 'Like what you see? Visit the ' +\n",
              "            '<a target=\"_blank\" href=https://colab.research.google.com/notebooks/data_table.ipynb>data table notebook</a>'\n",
              "            + ' to learn more about interactive tables.';\n",
              "          element.innerHTML = '';\n",
              "          dataTable['output_type'] = 'display_data';\n",
              "          await google.colab.output.renderOutput(dataTable, element);\n",
              "          const docLink = document.createElement('div');\n",
              "          docLink.innerHTML = docLinkHtml;\n",
              "          element.appendChild(docLink);\n",
              "        }\n",
              "      </script>\n",
              "    </div>\n",
              "  </div>\n",
              "  "
            ]
          },
          "metadata": {},
          "execution_count": 29
        }
      ]
    },
    {
      "cell_type": "code",
      "source": [
        "width = 12\n",
        "height = 10\n",
        "plt.figure(figsize=(width, height))\n",
        "sns.residplot(x=df['highway-mpg'],y=df['price'])\n",
        "plt.show()"
      ],
      "metadata": {
        "colab": {
          "base_uri": "https://localhost:8080/",
          "height": 606
        },
        "id": "5uv9EKTPIpW7",
        "outputId": "1774aee4-bace-4f02-9889-04ae17db550a"
      },
      "execution_count": 30,
      "outputs": [
        {
          "output_type": "display_data",
          "data": {
            "text/plain": [
              "<Figure size 864x720 with 1 Axes>"
            ],
            "image/png": "[encoded data removed]"
          },
          "metadata": {
            "needs_background": "light"
          }
        }
      ]
    },
    {
      "cell_type": "code",
      "source": [
        "Y_hat = lm.predict(Z)\n"
      ],
      "metadata": {
        "id": "bfMgnc4iJF4q"
      },
      "execution_count": 31,
      "outputs": []
    },
    {
      "cell_type": "code",
      "source": [
        "plt.figure(figsize=(width, height))\n",
        "\n",
        "\n",
        "ax1 = sns.distplot(df['price'], hist=False, color=\"r\", label=\"Actual Value\")\n",
        "sns.distplot(Y_hat, hist=False, color=\"b\", label=\"Fitted Values\" , ax=ax1)\n",
        "\n",
        "\n",
        "plt.title('Actual vs Fitted Values for Price')\n",
        "plt.xlabel('Price (in dollars)')\n",
        "plt.ylabel('Proportion of Cars')\n",
        "\n",
        "plt.show()\n",
        "plt.close()"
      ],
      "metadata": {
        "colab": {
          "base_uri": "https://localhost:8080/",
          "height": 710
        },
        "id": "rX6I2nM3JNZ4",
        "outputId": "3c243882-2f63-4172-9838-bd8e0c573fef"
      },
      "execution_count": 32,
      "outputs": [
        {
          "output_type": "stream",
          "name": "stderr",
          "text": [
            "/usr/local/lib/python3.7/dist-packages/seaborn/distributions.py:2619: FutureWarning: `distplot` is a deprecated function and will be removed in a future version. Please adapt your code to use either `displot` (a figure-level function with similar flexibility) or `kdeplot` (an axes-level function for kernel density plots).\n",
            "  warnings.warn(msg, FutureWarning)\n",
            "/usr/local/lib/python3.7/dist-packages/seaborn/distributions.py:2619: FutureWarning: `distplot` is a deprecated function and will be removed in a future version. Please adapt your code to use either `displot` (a figure-level function with similar flexibility) or `kdeplot` (an axes-level function for kernel density plots).\n",
            "  warnings.warn(msg, FutureWarning)\n"
          ]
        },
        {
          "output_type": "display_data",
          "data": {
            "text/plain": [
              "<Figure size 864x720 with 1 Axes>"
            ],
            "image/png": "[encoded data removed]"
          },
          "metadata": {
            "needs_background": "light"
          }
        }
      ]
    },
    {
      "cell_type": "code",
      "source": [
        "def PlotPolly(model, independent_variable, dependent_variabble, Name):\n",
        "    x_new = np.linspace(15, 55, 100)\n",
        "    y_new = model(x_new)\n",
        "\n",
        "    plt.plot(independent_variable, dependent_variabble, '.', x_new, y_new, '-')\n",
        "    plt.title('Polynomial Fit with Matplotlib for Price ~ Length')\n",
        "    ax = plt.gca()\n",
        "    ax.set_facecolor((0.898, 0.898, 0.898))\n",
        "    fig = plt.gcf()\n",
        "    plt.xlabel(Name)\n",
        "    plt.ylabel('Price of Cars')\n",
        "\n",
        "    plt.show()\n",
        "    plt.close()"
      ],
      "metadata": {
        "id": "ezPGP1RNJNhr"
      },
      "execution_count": 33,
      "outputs": []
    },
    {
      "cell_type": "code",
      "source": [
        "x = df['highway-mpg']\n",
        "y = df['price']"
      ],
      "metadata": {
        "id": "MRFJ1TT8JNn-"
      },
      "execution_count": 34,
      "outputs": []
    },
    {
      "cell_type": "code",
      "source": [
        "f = np.polyfit(x, y, 3)\n",
        "p = np.poly1d(f)\n",
        "print(p)"
      ],
      "metadata": {
        "colab": {
          "base_uri": "https://localhost:8080/"
        },
        "id": "pdIG7NcpIpaq",
        "outputId": "cfe48b0b-d496-4086-b969-6e70b0db8cbe"
      },
      "execution_count": 35,
      "outputs": [
        {
          "output_type": "stream",
          "name": "stdout",
          "text": [
            "        3         2\n",
            "-1.557 x + 204.8 x - 8965 x + 1.379e+05\n"
          ]
        }
      ]
    },
    {
      "cell_type": "code",
      "source": [
        "PlotPolly(p, x, y, 'highway-mpg')"
      ],
      "metadata": {
        "colab": {
          "base_uri": "https://localhost:8080/",
          "height": 295
        },
        "id": "4Z2TCfa2Jwi5",
        "outputId": "8f287220-2831-47ce-9ac3-a8ca6be83447"
      },
      "execution_count": 36,
      "outputs": [
        {
          "output_type": "display_data",
          "data": {
            "text/plain": [
              "<Figure size 432x288 with 1 Axes>"
            ],
            "image/png": "[encoded data removed]"
          },
          "metadata": {
            "needs_background": "light"
          }
        }
      ]
    },
    {
      "cell_type": "code",
      "source": [
        "np.polyfit(x, y, 3)"
      ],
      "metadata": {
        "colab": {
          "base_uri": "https://localhost:8080/"
        },
        "id": "pYh7WQaPJwuf",
        "outputId": "b69711ac-260d-4046-f842-8149a8178b33"
      },
      "execution_count": 37,
      "outputs": [
        {
          "output_type": "execute_result",
          "data": {
            "text/plain": [
              "array([-1.55663829e+00,  2.04754306e+02, -8.96543312e+03,  1.37923594e+05])"
            ]
          },
          "metadata": {},
          "execution_count": 37
        }
      ]
    },
    {
      "cell_type": "code",
      "source": [
        "#Cree un modelo polinomial de 11 órdenes con las variables x e y de arriba.\n",
        "f1 = np.polyfit(x, y, 11)\n",
        "p1 = np.poly1d(f1)\n",
        "print(p1)\n",
        "PlotPolly(p1,x,y, 'Highway MPG')"
      ],
      "metadata": {
        "colab": {
          "base_uri": "https://localhost:8080/",
          "height": 364
        },
        "id": "YzAV5-feJwx4",
        "outputId": "2fa815f3-72e0-4d11-e5d9-60191e7f6901"
      },
      "execution_count": 38,
      "outputs": [
        {
          "output_type": "stream",
          "name": "stdout",
          "text": [
            "            11             10             9           8         7\n",
            "-1.243e-08 x  + 4.722e-06 x  - 0.0008028 x + 0.08056 x - 5.297 x\n",
            "          6        5             4             3             2\n",
            " + 239.5 x - 7588 x + 1.684e+05 x - 2.565e+06 x + 2.551e+07 x - 1.491e+08 x + 3.879e+08\n"
          ]
        },
        {
          "output_type": "display_data",
          "data": {
            "text/plain": [
              "<Figure size 432x288 with 1 Axes>"
            ],
            "image/png": "[encoded data removed]"
          },
          "metadata": {
            "needs_background": "light"
          }
        }
      ]
    },
    {
      "cell_type": "code",
      "source": [
        "f1 = np.polyfit(x, y, 11)\n",
        "p1 = np.poly1d(f1)\n",
        "print(p1)\n",
        "PlotPolly(p1,x,y, 'Highway MPG')"
      ],
      "metadata": {
        "colab": {
          "base_uri": "https://localhost:8080/",
          "height": 364
        },
        "id": "_87cPnXVJw0_",
        "outputId": "5870e64f-2e62-40c4-b4b8-19deabb4d891"
      },
      "execution_count": 39,
      "outputs": [
        {
          "output_type": "stream",
          "name": "stdout",
          "text": [
            "            11             10             9           8         7\n",
            "-1.243e-08 x  + 4.722e-06 x  - 0.0008028 x + 0.08056 x - 5.297 x\n",
            "          6        5             4             3             2\n",
            " + 239.5 x - 7588 x + 1.684e+05 x - 2.565e+06 x + 2.551e+07 x - 1.491e+08 x + 3.879e+08\n"
          ]
        },
        {
          "output_type": "display_data",
          "data": {
            "text/plain": [
              "<Figure size 432x288 with 1 Axes>"
            ],
            "image/png": "[encoded data removed]"
          },
          "metadata": {
            "needs_background": "light"
          }
        }
      ]
    },
    {
      "cell_type": "code",
      "source": [
        "from sklearn.preprocessing import PolynomialFeatures"
      ],
      "metadata": {
        "id": "YrUCJPQ0KRqB"
      },
      "execution_count": 40,
      "outputs": []
    },
    {
      "cell_type": "code",
      "source": [
        "pr=PolynomialFeatures(degree=2)\n",
        "pr"
      ],
      "metadata": {
        "colab": {
          "base_uri": "https://localhost:8080/"
        },
        "id": "UgmrOO8XKeY9",
        "outputId": "05d5cfb0-f3f8-4d25-faa6-7ffc0ea38575"
      },
      "execution_count": 41,
      "outputs": [
        {
          "output_type": "execute_result",
          "data": {
            "text/plain": [
              "PolynomialFeatures()"
            ]
          },
          "metadata": {},
          "execution_count": 41
        }
      ]
    },
    {
      "cell_type": "code",
      "source": [
        "Z_pr=pr.fit_transform(Z)"
      ],
      "metadata": {
        "id": "dFENmTaKKeb9"
      },
      "execution_count": 42,
      "outputs": []
    },
    {
      "cell_type": "code",
      "source": [
        "Z.shape"
      ],
      "metadata": {
        "colab": {
          "base_uri": "https://localhost:8080/"
        },
        "id": "zukujkEuKRsz",
        "outputId": "b55198b1-7bc8-46a2-80db-4f7c4ecf5c71"
      },
      "execution_count": 43,
      "outputs": [
        {
          "output_type": "execute_result",
          "data": {
            "text/plain": [
              "(201, 4)"
            ]
          },
          "metadata": {},
          "execution_count": 43
        }
      ]
    },
    {
      "cell_type": "code",
      "source": [
        "from sklearn.pipeline import Pipeline\n",
        "from sklearn.preprocessing import StandardScaler"
      ],
      "metadata": {
        "id": "gigMYt_nKmuF"
      },
      "execution_count": 44,
      "outputs": []
    },
    {
      "cell_type": "code",
      "source": [
        "Input=[('scale',StandardScaler()), ('polynomial', PolynomialFeatures(include_bias=False)), ('model',LinearRegression())]"
      ],
      "metadata": {
        "id": "eMjPu64TKmxb"
      },
      "execution_count": 45,
      "outputs": []
    },
    {
      "cell_type": "code",
      "source": [
        "pipe=Pipeline(Input)\n",
        "pipe"
      ],
      "metadata": {
        "colab": {
          "base_uri": "https://localhost:8080/"
        },
        "id": "K1Om4NowKm0z",
        "outputId": "f90a10cc-1e4e-4164-caa9-9b4dd227bc40"
      },
      "execution_count": 46,
      "outputs": [
        {
          "output_type": "execute_result",
          "data": {
            "text/plain": [
              "Pipeline(steps=[('scale', StandardScaler()),\n",
              "                ('polynomial', PolynomialFeatures(include_bias=False)),\n",
              "                ('model', LinearRegression())])"
            ]
          },
          "metadata": {},
          "execution_count": 46
        }
      ]
    },
    {
      "cell_type": "code",
      "source": [
        "Z = Z.astype(float)\n",
        "pipe.fit(Z,y)"
      ],
      "metadata": {
        "colab": {
          "base_uri": "https://localhost:8080/"
        },
        "id": "k_zuSOvGKRvu",
        "outputId": "ae5a1655-1d3f-4b5c-c72a-efdb03c79914"
      },
      "execution_count": 47,
      "outputs": [
        {
          "output_type": "execute_result",
          "data": {
            "text/plain": [
              "Pipeline(steps=[('scale', StandardScaler()),\n",
              "                ('polynomial', PolynomialFeatures(include_bias=False)),\n",
              "                ('model', LinearRegression())])"
            ]
          },
          "metadata": {},
          "execution_count": 47
        }
      ]
    },
    {
      "cell_type": "code",
      "source": [
        "ypipe=pipe.predict(Z)\n",
        "ypipe[0:4]"
      ],
      "metadata": {
        "colab": {
          "base_uri": "https://localhost:8080/"
        },
        "id": "bMtXXt0aK7lF",
        "outputId": "71d48a9f-aa25-41ce-d3ad-d383656e09b0"
      },
      "execution_count": 48,
      "outputs": [
        {
          "output_type": "execute_result",
          "data": {
            "text/plain": [
              "array([13102.74784201, 13102.74784201, 18225.54572197, 10390.29636555])"
            ]
          },
          "metadata": {},
          "execution_count": 48
        }
      ]
    },
    {
      "cell_type": "code",
      "source": [
        "#Cree una canalización que estandarice los datos, luego produzca una predicción usando un modelo de regresión lineal usando las características Z y el objetivo y.\n",
        "Input=[('scale',StandardScaler()),('model',LinearRegression())]\n",
        "\n",
        "pipe=Pipeline(Input)\n",
        "\n",
        "pipe.fit(Z,y)\n",
        "\n",
        "ypipe=pipe.predict(Z)\n",
        "ypipe[0:10]"
      ],
      "metadata": {
        "colab": {
          "base_uri": "https://localhost:8080/"
        },
        "id": "b_q0wD9eK7uq",
        "outputId": "8c5eddc6-baca-4d8c-9b60-c6531b0db65b"
      },
      "execution_count": 50,
      "outputs": [
        {
          "output_type": "execute_result",
          "data": {
            "text/plain": [
              "array([13699.11161184, 13699.11161184, 19051.65470233, 10620.36193015,\n",
              "       15521.31420211, 13869.66673213, 15456.16196732, 15974.00907672,\n",
              "       17612.35917161, 10722.32509097])"
            ]
          },
          "metadata": {},
          "execution_count": 50
        }
      ]
    },
    {
      "cell_type": "code",
      "source": [],
      "metadata": {
        "id": "fbN5pCESLf0L"
      },
      "execution_count": null,
      "outputs": []
    },
    {
      "cell_type": "code",
      "source": [],
      "metadata": {
        "id": "eKeOfvraLKAL"
      },
      "execution_count": null,
      "outputs": []
    }
  ]
}